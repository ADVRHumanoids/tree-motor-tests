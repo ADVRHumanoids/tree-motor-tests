{
 "metadata": {
  "language_info": {
   "codemirror_mode": {
    "name": "ipython",
    "version": 3
   },
   "file_extension": ".py",
   "mimetype": "text/x-python",
   "name": "python",
   "nbconvert_exporter": "python",
   "pygments_lexer": "ipython3",
   "version": "3.6.9"
  },
  "orig_nbformat": 2,
  "kernelspec": {
   "name": "python369jvsc74a57bd031f2aee4e71d21fbe5cf8b01ff0e069b9275f58929596ceb00d14d90e3e16cd6",
   "display_name": "Python 3.6.9 64-bit"
  },
  "metadata": {
   "interpreter": {
    "hash": "31f2aee4e71d21fbe5cf8b01ff0e069b9275f58929596ceb00d14d90e3e16cd6"
   }
  }
 },
 "nbformat": 4,
 "nbformat_minor": 2,
 "cells": [
  {
   "cell_type": "code",
   "execution_count": null,
   "metadata": {},
   "outputs": [],
   "source": [
    "import os\n",
    "import sys\n",
    "import glob\n",
    "import yaml\n",
    "import numpy as np\n",
    "# tell matplotlib not to try to load up GTK as it returns errors over ssh\n",
    "#from matplotlib import use as plt_use\n",
    "#plt_use(\"Agg\")\n",
    "from matplotlib import pyplot as plt\n",
    "\n",
    "#import costum files\n",
    "sys.path.append('/home/tree/ecat_dev/motor_tests')\n",
    "from utils import plot_utils\n",
    "from utils import move_utils\n",
    "from utils.prompt_utils import single_yes_or_no_question as prompt_user"
   ]
  },
  {
   "cell_type": "code",
   "execution_count": null,
   "metadata": {},
   "outputs": [],
   "source": [
    "## Parameters:\n",
    "# path to tests\n",
    "base_path = os.path.expanduser('~/ecat_dev/ec_master_app/build/examples/motor-tests/')\n",
    "test_0  = os.path.join(base_path, 'test-pdo/test-pdo')\n",
    "test_1  = os.path.join(base_path, 'test-phase/test-phase')\n",
    "test_1b = os.path.join(base_path, 'set_phase/set_pase')\n",
    "test_2  = os.path.join(base_path, 'test-current-free-smooth/test-current-free-smooth')\n",
    "# path to the configuration file for the motor and the test variables\n",
    "config_file = os.path.expanduser('~/ecat_dev/ec_master_app/examples/motor-tests/config.yaml')\n",
    "\n",
    "#print logo\n",
    "plot_utils.print_alberobotics()"
   ]
  },
  {
   "source": [
    "# 0. Test PDO"
   ],
   "cell_type": "markdown",
   "metadata": {}
  },
  {
   "cell_type": "code",
   "execution_count": null,
   "metadata": {},
   "outputs": [],
   "source": [
    "## test pdo\n",
    "print(plot_utils.bcolors.OKBLUE + \"[i] Starting test-pdo\" + plot_utils.bcolors.ENDC)\n",
    "!{test_0} {config_file}"
   ]
  },
  {
   "cell_type": "code",
   "execution_count": null,
   "metadata": {},
   "outputs": [],
   "source": [
    "#get updated yaml file\n",
    "list_of_files = glob.glob('/logs/**/*test-results.yaml', recursive=True)\n",
    "config_file = max(list_of_files, key=os.path.getctime)\n",
    "print(config_file)"
   ]
  },
  {
   "source": [
    "# 1. test-pahse"
   ],
   "cell_type": "markdown",
   "metadata": {}
  },
  {
   "cell_type": "code",
   "execution_count": null,
   "metadata": {},
   "outputs": [],
   "source": [
    "## run test\n",
    "print(plot_utils.bcolors.OKBLUE + \"[i] Starting phase-calib\" + plot_utils.bcolors.ENDC)\n",
    "!{test_1} {config_file}"
   ]
  },
  {
   "cell_type": "code",
   "execution_count": null,
   "metadata": {},
   "outputs": [],
   "source": [
    "# process extracted data\n",
    "print(plot_utils.bcolors.OKBLUE + \"[i] Processing phase data\" + plot_utils.bcolors.ENDC)\n",
    "config_file = process_phase.process(yaml_file=config_file, plot_all=True)"
   ]
  },
  {
   "cell_type": "code",
   "execution_count": null,
   "metadata": {},
   "outputs": [],
   "source": [
    "## Upload to motor the best phase angle\n",
    "print(plot_utils.bcolors.OKBLUE + \"[i] Sending phase angle to motor using set-phase\" +  plot_utils.bcolors.ENDC)\n",
    "!{cmd1b} {config_file}"
   ]
  },
  {
   "source": [
    "# 2. test-current-free-smooth"
   ],
   "cell_type": "markdown",
   "metadata": {}
  },
  {
   "cell_type": "code",
   "execution_count": null,
   "metadata": {},
   "outputs": [],
   "source": [
    "## run test\n",
    "print(plot_utils.bcolors.OKBLUE + \"[i] Starting test-current-free-smooth\" + plot_utils.bcolors.ENDC)\n",
    "!{test_2} {config_file}"
   ]
  },
  {
   "cell_type": "code",
   "execution_count": null,
   "metadata": {},
   "outputs": [],
   "source": [
    "# process extracted data\n",
    "print(plot_utils.bcolors.OKBLUE + \"[i] Processing data\" + plot_utils.bcolors.ENDC)\n",
    "config_file = process_phase.process(yaml_file=config_file, plot_all=True)"
   ]
  },
  {
   "cell_type": "code",
   "execution_count": null,
   "metadata": {},
   "outputs": [],
   "source": [
    "print(plot_utils.bcolors.OKGREEN + u'[\\u2713] Ended calibration successfully' + plot_utils.bcolors.ENDC)\n"
   ]
  }
 ]
}